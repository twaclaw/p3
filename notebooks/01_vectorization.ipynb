{
 "cells": [
  {
   "cell_type": "code",
   "execution_count": 4,
   "metadata": {},
   "outputs": [],
   "source": [
    "import numpy as np\n",
    "import time"
   ]
  },
  {
   "cell_type": "code",
   "execution_count": 30,
   "metadata": {},
   "outputs": [
    {
     "name": "stdout",
     "output_type": "stream",
     "text": [
      "(10000000,) (10000000,)\n"
     ]
    }
   ],
   "source": [
    "N = 10000000\n",
    "a = np.random.rand(N)\n",
    "b = np.random.rand(N)\n",
    "print(a.shape, b.shape)"
   ]
  },
  {
   "cell_type": "markdown",
   "metadata": {},
   "source": [
    "## Calculates the dot product between a and b\n",
    "\n",
    "$a\\cdot b = \\sum_{i}^{N}a_{i}b_{i} = \\sum_{i}^{N}a[i]b[i]$"
   ]
  },
  {
   "cell_type": "code",
   "execution_count": 31,
   "metadata": {},
   "outputs": [
    {
     "name": "stdout",
     "output_type": "stream",
     "text": [
      "Result: 2499608.8272679946\n",
      "Time: 3.71403431892395\n"
     ]
    }
   ],
   "source": [
    "# calculates dot product\n",
    "tic = time.time()\n",
    "dot_p = 0\n",
    "for i in range(N):\n",
    "    dot_p += a[i] * b[i]\n",
    "    \n",
    "toc = time.time()\n",
    "t1 = toc - tic\n",
    "\n",
    "print(\"Result:\", dot_p)\n",
    "print(\"Time:\", t1)"
   ]
  },
  {
   "cell_type": "code",
   "execution_count": 32,
   "metadata": {},
   "outputs": [
    {
     "name": "stdout",
     "output_type": "stream",
     "text": [
      "Result: 2499608.8272679946\n",
      "Time: 0.024964094161987305\n"
     ]
    }
   ],
   "source": [
    "tic = time.time()\n",
    "a.dot(b)\n",
    "toc = time.time()\n",
    "t2 = toc - tic\n",
    "print(\"Result:\", dot_p)\n",
    "print(\"Time:\", t2)"
   ]
  },
  {
   "cell_type": "code",
   "execution_count": 33,
   "metadata": {},
   "outputs": [
    {
     "data": {
      "text/plain": [
       "148.77504846858378"
      ]
     },
     "execution_count": 33,
     "metadata": {},
     "output_type": "execute_result"
    }
   ],
   "source": [
    "t1/t2"
   ]
  },
  {
   "cell_type": "markdown",
   "metadata": {},
   "source": [
    "# Linear algebra"
   ]
  },
  {
   "cell_type": "code",
   "execution_count": 35,
   "metadata": {},
   "outputs": [],
   "source": [
    "m1 = np.random.rand(4,4)"
   ]
  },
  {
   "cell_type": "code",
   "execution_count": 36,
   "metadata": {},
   "outputs": [
    {
     "data": {
      "text/plain": [
       "array([[0.41223568, 0.321687  , 0.48630991, 0.5527899 ],\n",
       "       [0.81928372, 0.98802821, 0.89823876, 0.91612929],\n",
       "       [0.95389316, 0.73816418, 0.01009198, 0.27742658],\n",
       "       [0.44360418, 0.28716026, 0.50809955, 0.5130678 ]])"
      ]
     },
     "execution_count": 36,
     "metadata": {},
     "output_type": "execute_result"
    }
   ],
   "source": [
    "m1"
   ]
  },
  {
   "cell_type": "code",
   "execution_count": 38,
   "metadata": {},
   "outputs": [
    {
     "data": {
      "text/plain": [
       "array([[0.41223568, 0.81928372, 0.95389316, 0.44360418],\n",
       "       [0.321687  , 0.98802821, 0.73816418, 0.28716026],\n",
       "       [0.48630991, 0.89823876, 0.01009198, 0.50809955],\n",
       "       [0.5527899 , 0.91612929, 0.27742658, 0.5130678 ]])"
      ]
     },
     "execution_count": 38,
     "metadata": {},
     "output_type": "execute_result"
    }
   ],
   "source": [
    "# transpose\n",
    "\n",
    "m1.T"
   ]
  },
  {
   "cell_type": "code",
   "execution_count": 40,
   "metadata": {},
   "outputs": [],
   "source": [
    "#inverse\n",
    "m2 = np.linalg.inv(m1)"
   ]
  }
 ],
 "metadata": {
  "kernelspec": {
   "display_name": "Python 3",
   "language": "python",
   "name": "python3"
  },
  "language_info": {
   "codemirror_mode": {
    "name": "ipython",
    "version": 3
   },
   "file_extension": ".py",
   "mimetype": "text/x-python",
   "name": "python",
   "nbconvert_exporter": "python",
   "pygments_lexer": "ipython3",
   "version": "3.6.6"
  }
 },
 "nbformat": 4,
 "nbformat_minor": 2
}
