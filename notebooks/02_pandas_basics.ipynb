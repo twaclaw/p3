{
 "cells": [
  {
   "cell_type": "code",
   "execution_count": 5,
   "metadata": {},
   "outputs": [],
   "source": [
    "import os\n",
    "import zipfile\n",
    "from six.moves import urllib\n",
    "\n",
    "DOWNLOAD_ROOT = \"http://files.grouplens.org/\"\n",
    "MOVIELENS_PATH = os.path.join(\"datasets\", \"movielens\")\n",
    "MOVIELENS_URL = DOWNLOAD_ROOT + \"datasets/movielens/ml-20m.zip\"\n",
    "\n",
    "def fetch_housing_data(movielens_url=MOVIELENS_URL, movielens_path=MOVIELENS_PATH):\n",
    "    if not os.path.isdir(movielens_path):\n",
    "        os.makedirs(movielens_path)\n",
    "    zip_path = os.path.join(movielens_path, \"ml-20m.zip\")\n",
    "    print(movielens_url)\n",
    "    urllib.request.urlretrieve(movielens_url, zip_path)\n",
    "    zip_ref = zipfile.ZipFile(zip_path, 'r')\n",
    "    zip_ref.extractall(movielens_path)\n",
    "    zip_ref.close()\n"
   ]
  },
  {
   "cell_type": "code",
   "execution_count": 6,
   "metadata": {},
   "outputs": [
    {
     "name": "stdout",
     "output_type": "stream",
     "text": [
      "http://files.grouplens.org/datasets/movielens/ml-20m.zip\n"
     ]
    }
   ],
   "source": [
    "fetch_housing_data()"
   ]
  },
  {
   "cell_type": "code",
   "execution_count": null,
   "metadata": {},
   "outputs": [],
   "source": []
  }
 ],
 "metadata": {
  "kernelspec": {
   "display_name": "Python 3",
   "language": "python",
   "name": "python3"
  },
  "language_info": {
   "codemirror_mode": {
    "name": "ipython",
    "version": 3
   },
   "file_extension": ".py",
   "mimetype": "text/x-python",
   "name": "python",
   "nbconvert_exporter": "python",
   "pygments_lexer": "ipython3",
   "version": "3.6.6"
  }
 },
 "nbformat": 4,
 "nbformat_minor": 2
}
